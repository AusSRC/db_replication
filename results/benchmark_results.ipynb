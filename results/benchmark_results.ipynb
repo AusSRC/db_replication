{
 "cells": [
  {
   "cell_type": "markdown",
   "metadata": {},
   "source": [
    "# Asymmetric distribution of data products from WALLABY, an SKA precursor neutral hydrogen survey"
   ]
  },
  {
   "cell_type": "markdown",
   "metadata": {},
   "source": [
    "This is a notebook to execute the statistics of the results for the poster presented in ADASS XXXI."
   ]
  },
  {
   "cell_type": "code",
   "execution_count": null,
   "metadata": {},
   "outputs": [],
   "source": [
    "import matplotlib.pyplot as plt\n",
    "import pandas as pd\n",
    "from datetime import datetime"
   ]
  },
  {
   "cell_type": "code",
   "execution_count": null,
   "metadata": {},
   "outputs": [],
   "source": [
    "# Get the results file\n",
    "df = pd.read_csv('results.csv', header=0 ,names=['inserts','deletes','started','ended','comments','size'])"
   ]
  },
  {
   "cell_type": "code",
   "execution_count": null,
   "metadata": {},
   "outputs": [],
   "source": [
    "# Parse date format to reduce to minutes\n",
    "\n",
    "df['started'] = df['started'].map(lambda x: datetime.strptime(str(x), '%Y-%m-%d %H:%M:%S.%f'))\n",
    "df['ended'] = df['ended'].map(lambda x: datetime.strptime(str(x), '%Y-%m-%d %H:%M:%S.%f'))\n",
    "\n",
    "df['delay'] = df['ended']- df['started']\n",
    "df['delay'] = df['delay'].map(lambda x: x.total_seconds())\n"
   ]
  },
  {
   "cell_type": "code",
   "execution_count": null,
   "metadata": {},
   "outputs": [],
   "source": [
    "# Get a first view\n",
    "\n",
    "df.head()"
   ]
  },
  {
   "cell_type": "markdown",
   "metadata": {},
   "source": [
    "# 10MBytes, 5 rows, same time (50 MBytes transaction)\n",
    "\n",
    "Get table and results for data products with 10 MBytes and a 5 rows inserted at the same time (batch insertion instead one-by-one), so a single transaction with 50 MBytes.\n"
   ]
  },
  {
   "cell_type": "code",
   "execution_count": null,
   "metadata": {},
   "outputs": [],
   "source": [
    "df[ ( df['size']==10.0) & (df['inserts']==5.0)] "
   ]
  },
  {
   "cell_type": "markdown",
   "metadata": {},
   "source": [
    "# 5MBytes, 5 rows, same time (25 MBytes transaction)\n",
    "\n",
    "Get table and results for data products with 5 MBytes and a 5 rows inserted at the same time (batch insertion instead one-by-one), so a 25 MBytes transaction."
   ]
  },
  {
   "cell_type": "code",
   "execution_count": null,
   "metadata": {},
   "outputs": [],
   "source": [
    "df[ ( df['size']==5.0) & (df['inserts']==5.0)] "
   ]
  },
  {
   "cell_type": "markdown",
   "metadata": {},
   "source": [
    "# 20MBytes, 5 rows, same time (100 MBytes transaction)\n",
    "\n",
    "Get table and results for data products with 20 MBytes and a 5 rows inserted at the same time (batch insertion instead one-by-one), so a 100MBytes transaction."
   ]
  },
  {
   "cell_type": "code",
   "execution_count": null,
   "metadata": {},
   "outputs": [],
   "source": [
    "df[ ( df['size']==20.0) & (df['inserts']==5.0)] "
   ]
  },
  {
   "cell_type": "markdown",
   "metadata": {},
   "source": [
    "# 2MBytes, 5 rows, same time (10 MBytes transaction)\n",
    "\n",
    "Get table and results for data products with 2 MBytes and a 5 rows inserted at the same time (batch insertion instead one-by-one), a 10MBytes each transaction."
   ]
  },
  {
   "cell_type": "code",
   "execution_count": null,
   "metadata": {},
   "outputs": [],
   "source": [
    "df[ ( df['size']==2.0) & (df['inserts']==5.0)] "
   ]
  },
  {
   "cell_type": "markdown",
   "metadata": {},
   "source": [
    "# Summary of average data product replication delay for 5-item insertion batches and different data product sizes"
   ]
  },
  {
   "cell_type": "code",
   "execution_count": null,
   "metadata": {},
   "outputs": [],
   "source": [
    "plt.errorbar(x = [2,5,10,20], y=[\n",
    "    df[ ( df['size']==2.0) & (df['inserts']==5.0)]['delay'].mean(),\n",
    "        df[ ( df['size']==5.0) & (df['inserts']==5.0)]['delay'].mean(),\n",
    "            df[ ( df['size']==10.0) & (df['inserts']==5.0)]['delay'].mean(),\n",
    "    df[ ( df['size']==20.0) & (df['inserts']==5.0)]['delay'].mean(),\n",
    " \n",
    "], yerr= [df[ ( df['size']==2.0) & (df['inserts']==5.0)]['delay'].std(),\n",
    "          df[ ( df['size']==5.0) & (df['inserts']==5.0)]['delay'].std(),\n",
    "            df[ ( df['size']==10.0) & (df['inserts']==5.0)]['delay'].std(),\n",
    "                      df[ ( df['size']==20.0) & (df['inserts']==5.0)]['delay'].std()        \n",
    "         ],linestyle='solid', fmt='o', color='black', marker='o', ecolor='lightblue', elinewidth=3)\n",
    "\n",
    "plt.xlabel(\"Number of rows inserted at the same time\")\n",
    "plt.ylabel(\"Average time for consolidated operation\")\n",
    "plt.legend(loc='upper left')\n",
    "plt.title('Average delay in replication of data product insertion batches.')"
   ]
  },
  {
   "cell_type": "code",
   "execution_count": null,
   "metadata": {},
   "outputs": [],
   "source": [
    "df[ ( df['size']==5.0) & (df['inserts']!=0)] "
   ]
  },
  {
   "cell_type": "markdown",
   "metadata": {},
   "source": [
    "# Average replication time for incremental insertion/deletion with 5MBytes data products"
   ]
  },
  {
   "cell_type": "code",
   "execution_count": null,
   "metadata": {},
   "outputs": [],
   "source": [
    "plt.errorbar(x = [2,5,10,15,20,25,30,35,40,45,50,60,70,80,90,100],\n",
    "             y=[\n",
    "                df[ ( df['size']==5.0) & (df['inserts']==2)]['delay'],\n",
    "                df[ ( df['size']==5.0) & (df['inserts']==5)]['delay'].mean(),               \n",
    "                df[ ( df['size']==5.0) & (df['inserts']==10)]['delay'],\n",
    "                df[ ( df['size']==5.0) & (df['inserts']==15)]['delay'],\n",
    "                df[ ( df['size']==5.0) & (df['inserts']==20)]['delay'],                 \n",
    "                df[ ( df['size']==5.0) & (df['inserts']==25)]['delay'],\n",
    "                df[ ( df['size']==5.0) & (df['inserts']==30)]['delay'],\n",
    "                df[ ( df['size']==5.0) & (df['inserts']==35)]['delay'],                 \n",
    "                df[ ( df['size']==5.0) & (df['inserts']==40)]['delay'],                 \n",
    "                df[ ( df['size']==5.0) & (df['inserts']==45)]['delay'],                 \n",
    "                df[ ( df['size']==5.0) & (df['inserts']==50)]['delay'],                 \n",
    "                df[ ( df['size']==5.0) & (df['inserts']==60)]['delay'],                 \n",
    "                df[ ( df['size']==5.0) & (df['inserts']==70)]['delay'],                 \n",
    "                df[ ( df['size']==5.0) & (df['inserts']==80)]['delay'],                 \n",
    "                df[ ( df['size']==5.0) & (df['inserts']==90)]['delay'],                 \n",
    "                df[ ( df['size']==5.0) & (df['inserts']==100)]['delay'],                 \n",
    "             ],\n",
    "             linestyle='solid', fmt='o', color='black', marker='o', ecolor='lightblue', elinewidth=3)\n",
    "\n",
    "plt.xlabel(\"Number of rows inserted at the same time\")\n",
    "plt.ylabel(\"Average time for consolidated operation\")\n",
    "plt.legend(loc='upper left')\n",
    "plt.title('Average delay in replication of data product insertion batches ().')"
   ]
  },
  {
   "cell_type": "markdown",
   "metadata": {},
   "source": [
    "# Average replication time for incremental insertion/deletion with 2MBytes data products"
   ]
  },
  {
   "cell_type": "code",
   "execution_count": null,
   "metadata": {},
   "outputs": [],
   "source": [
    "plt.errorbar(x = [2,5,10,15,20,25,30,35,40,45,50,60,70,80,90,100],\n",
    "             y=[\n",
    "                df[ ( df['size']==2.0) & (df['inserts']==2)]['delay'].mean(),\n",
    "                df[ ( df['size']==2.0) & (df['inserts']==5)]['delay'].mean(),               \n",
    "                df[ ( df['size']==2.0) & (df['inserts']==10)]['delay'].mean(),\n",
    "                df[ ( df['size']==2.0) & (df['inserts']==15)]['delay'].mean(),\n",
    "                df[ ( df['size']==2.0) & (df['inserts']==20)]['delay'].mean(),                 \n",
    "                df[ ( df['size']==2.0) & (df['inserts']==25)]['delay'].mean(),\n",
    "                df[ ( df['size']==2.0) & (df['inserts']==30)]['delay'].mean(),\n",
    "                df[ ( df['size']==2.0) & (df['inserts']==35)]['delay'].mean(),                 \n",
    "                df[ ( df['size']==2.0) & (df['inserts']==40)]['delay'].mean(),                 \n",
    "                df[ ( df['size']==2.0) & (df['inserts']==45)]['delay'].mean(),                 \n",
    "                df[ ( df['size']==2.0) & (df['inserts']==50)]['delay'].mean(),                 \n",
    "                df[ ( df['size']==2.0) & (df['inserts']==60)]['delay'].mean(),                 \n",
    "                df[ ( df['size']==2.0) & (df['inserts']==70)]['delay'].mean(),                 \n",
    "                df[ ( df['size']==2.0) & (df['inserts']==80)]['delay'].mean(),                 \n",
    "                df[ ( df['size']==2.0) & (df['inserts']==90)]['delay'].mean(),                 \n",
    "                df[ ( df['size']==2.0) & (df['inserts']==100)]['delay'].mean()               \n",
    "             ],\n",
    "             linestyle='solid', fmt='o', color='black', marker='o', ecolor='lightblue', elinewidth=3)\n",
    "\n",
    "plt.xlabel(\"Number of rows inserted at the same time\")\n",
    "plt.ylabel(\"Average time for consolidated operation\")\n",
    "plt.legend(loc='upper left')\n",
    "plt.title('Average delay in replication of data product insertion batches ().')"
   ]
  },
  {
   "cell_type": "code",
   "execution_count": null,
   "metadata": {},
   "outputs": [],
   "source": []
  }
 ],
 "metadata": {
  "kernelspec": {
   "display_name": "Python 3",
   "language": "python",
   "name": "python3"
  },
  "language_info": {
   "codemirror_mode": {
    "name": "ipython",
    "version": 3
   },
   "file_extension": ".py",
   "mimetype": "text/x-python",
   "name": "python",
   "nbconvert_exporter": "python",
   "pygments_lexer": "ipython3",
   "version": "3.7.6"
  }
 },
 "nbformat": 4,
 "nbformat_minor": 5
}
